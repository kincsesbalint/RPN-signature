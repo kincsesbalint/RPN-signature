{
 "cells": [
  {
   "cell_type": "markdown",
   "metadata": {
    "deletable": true,
    "editable": true
   },
   "source": [
    "# Stability of the RPN-signature to the regions-of-interest system"
   ]
  },
  {
   "cell_type": "markdown",
   "metadata": {
    "deletable": true,
    "editable": true
   },
   "source": [
    "Initially, we import the required python modules and load the data (composite pain sensitivity, RPN-score, regional timeseries)."
   ]
  },
  {
   "cell_type": "code",
   "execution_count": 137,
   "metadata": {
    "ExecuteTime": {
     "end_time": "2019-10-08T07:47:10.971867Z",
     "start_time": "2019-10-08T09:47:10.891549+02:00"
    },
    "collapsed": false,
    "deletable": true,
    "editable": true
   },
   "outputs": [],
   "source": [
    "# import neccessary modules and load all data\n",
    "import pandas as pd\n",
    "import numpy as np\n",
    "import matplotlib.pyplot as plt\n",
    "import seaborn as sns; sns.set()\n",
    "sns.set(style=\"ticks\")\n",
    "import warnings\n",
    "warnings.filterwarnings('ignore')\n",
    "from sklearn.preprocessing import StandardScaler\n",
    "from sklearn.externals import joblib\n",
    "from tqdm import tqdm as tqdm_base\n",
    "# just a hack for a tqdm progress bar issue in python 2 notebooks\n",
    "# https://github.com/tqdm/tqdm/issues/375\n",
    "def tqdm(*args, **kwargs):\n",
    "    if hasattr(tqdm_base, '_instances'):\n",
    "        for instance in list(tqdm_base._instances):\n",
    "            tqdm_base._decr_instances(instance)\n",
    "    return tqdm_base(*args, **kwargs)\n",
    "\n",
    "# Load all data:\n",
    "study1 = pd.read_csv(\"../res/bochum_sample_excl.csv\")[[\"HPT\", \"CPT\", \"MPT_log_geom\",\n",
    "                                                       \"mean_QST_pain_sensitivity\", \"prediction\"]]\n",
    "study2 = pd.read_csv(\"../res/essen_sample_excl.csv\")[[\"HPT\", \"CPT\", \"MPT_log_geom\",\n",
    "                                                      \"mean_QST_pain_sensitivity\", \"prediction\"]]\n",
    "study3 = pd.read_csv(\"../res/szeged_sample_excl.csv\")[[\"HPT\", \"CPT\", \"MPT_log_geom\",\n",
    "                                                       \"mean_QST_pain_sensitivity\", \"prediction\"]]\n",
    "# merge datasets\n",
    "df = pd.concat([study1, study2, study3])\n",
    "\n",
    "# load the trained RPN-model\n",
    "rpn = joblib.load(\"../res/predictive_model.sav\")\n",
    "\n",
    "# load features for each study\n",
    "X_bochum = joblib.load(\"../res/feature_bochum.sav\")\n",
    "X_essen = joblib.load(\"../res/feature_essen.sav\")\n",
    "X_szeged = joblib.load(\"../res/feature_szeged.sav\")\n",
    "\n",
    "X=np.concatenate((X_bochum, X_essen, X_szeged))"
   ]
  },
  {
   "cell_type": "markdown",
   "metadata": {
    "deletable": true,
    "editable": true
   },
   "source": [
    "## Step 1. Stability to region drop-out\n",
    "\n",
    "Here, we investigate how robust the RPN-signature is to region drop-out, that is, artificially zeroing out the timecourse of a given number of RPN-regions.\n",
    "On real data, a similar (although not so dramatic) drop-out can be caused e.g. by signal drop-out due to susceptibility artifact (typically in medial frontal regions).\n",
    "We simulate drop out be zeroing out N regions randomly and plot the histogram of correlations of the RPN-scores computed with random drop-out (drop-out score) with the measured composite pain sensitivity.\n",
    "\n",
    "First, we define a function to perform the \"drop-out\" of a given number of regions."
   ]
  },
  {
   "cell_type": "code",
   "execution_count": 138,
   "metadata": {
    "ExecuteTime": {
     "end_time": "2019-10-08T07:47:13.615451Z",
     "start_time": "2019-10-08T09:47:13.604490+02:00"
    },
    "code_folding": [],
    "collapsed": false,
    "deletable": true,
    "editable": true
   },
   "outputs": [],
   "source": [
    "def drop_out_region(num_drop_out=0):\n",
    "    #load atlas labels\n",
    "    labels = pd.read_csv(\"../data/atlas_relabeled.tsv\", sep=\"\\t\")[[\"index\", \"labels\", \"modules\"]]\n",
    "    labels.loc[-1] = [0, \"aMEAN_GM\", \"aMEAN_GM\"]  # adding a row\n",
    "    labels.index = labels.index + 1  # shifting index\n",
    "    labels = labels.sort_index()  # sorting by index\n",
    "\n",
    "    # get coefficients of the RPN\n",
    "    RES = np.zeros(len(labels)*(len(labels)-1)/2)\n",
    "    featuremask = rpn.named_steps['fsel'].get_support()\n",
    "    RES[featuremask] = rpn.named_steps['model'].coef_\n",
    "    \n",
    "    # zero-out some regions by randomly selecting from those having a nonzero coef\n",
    "    indices=np.random.choice(np.nonzero(RES)[0], num_drop_out, replace=False)\n",
    "    X_drop=X.copy()\n",
    "    X_drop[:, indices]=0\n",
    "    \n",
    "    predicted = rpn.predict(X_drop)\n",
    "    return(predicted)"
   ]
  },
  {
   "cell_type": "markdown",
   "metadata": {
    "deletable": true,
    "editable": true
   },
   "source": [
    "Next, we investigate how the correlation changes for various drop-out values."
   ]
  },
  {
   "cell_type": "code",
   "execution_count": 139,
   "metadata": {
    "ExecuteTime": {
     "end_time": "2019-10-08T07:48:29.372067Z",
     "start_time": "2019-10-08T09:47:19.599973+02:00"
    },
    "code_folding": [],
    "collapsed": false,
    "deletable": true,
    "editable": true
   },
   "outputs": [
    {
     "name": "stderr",
     "output_type": "stream",
     "text": [
      "100%|██████████| 22/22 [01:09<00:00,  3.17s/it]\n"
     ]
    }
   ],
   "source": [
    "numiter=50\n",
    "max_drop_N=22\n",
    "num_dropped=np.zeros(max_drop_N*numiter)\n",
    "correlation=np.zeros(max_drop_N*numiter)\n",
    "\n",
    "np.random.seed(0)\n",
    "idx=0\n",
    "for dropN in tqdm(range(max_drop_N)):\n",
    "    for iter in range(numiter):\n",
    "        \n",
    "        correlation[idx] = np.corrcoef(df['mean_QST_pain_sensitivity'], drop_out_region(dropN))[0,1]\n",
    "        num_dropped[idx]=dropN\n",
    "        idx=idx+1\n",
    "\n",
    "data=pd.DataFrame({\n",
    "    'num_dropped' : num_dropped,\n",
    "    'correlation' : correlation\n",
    "})\n",
    "\n"
   ]
  },
  {
   "cell_type": "code",
   "execution_count": 140,
   "metadata": {
    "ExecuteTime": {
     "end_time": "2019-10-08T07:48:33.187309Z",
     "start_time": "2019-10-08T09:48:32.612180+02:00"
    },
    "collapsed": false,
    "deletable": true,
    "editable": true
   },
   "outputs": [
    {
     "data": {
      "image/png": "[encoded data removed]",
      "text/plain": [
       "<Figure size 432x288 with 1 Axes>"
      ]
     },
     "metadata": {},
     "output_type": "display_data"
    }
   ],
   "source": [
    "# plot drop-out effect\n",
    "ax=sns.lineplot(x=\"num_dropped\", y=\"correlation\", ci=95, data=data)\n",
    "ax.axhline(0.2061, ls='--')\n",
    "plt.show()"
   ]
  },
  {
   "cell_type": "markdown",
   "metadata": {
    "deletable": true,
    "editable": true
   },
   "source": [
    "### *Figure SE2.1. The tolerance of the RPN-signature to region drop-out.*\n",
    "*The mean (and 95% confidence intervals) correlation between predicted and observed pain sensitivity is plotted as a function of the number of regions dropped out randomly by setting their timecourse to constant zero. Dashed line denotes R=0.206, i.e. the correlation value belonging to the p=0.05 significance threshold. The analysis revealed a considerable robustness to drop-out; the average prediction accuracy remained significant by the random drop-out of up to 19 regions out of 21, although – as expected - prediction accuracy constantly decreased with an increasing number of dropped regions.*\n"
   ]
  },
  {
   "cell_type": "markdown",
   "metadata": {
    "ExecuteTime": {
     "end_time": "2019-10-04T08:45:17.943142Z",
     "start_time": "2019-10-04T08:45:17.940758Z"
    },
    "deletable": true,
    "editable": true
   },
   "source": [
    "## Step 2. Stability to the definition region-boundaries (mixed signal)"
   ]
  },
  {
   "cell_type": "markdown",
   "metadata": {
    "deletable": true,
    "editable": true
   },
   "source": [
    "Next to full drop-out of some of the regions another issue on the level of the regional timeseries can be a decreased signal-to-noise ratio. Such an effect can be caused, for instance, by a generally low measurement quality or a less accurate definition of regions (e.g. co-registration inaccuracies or use of another brain atlas).\n",
    "\n",
    "First, we define a function to add a given proportion of Gaussian noise to *all* of the regional timeseries.\n",
    ">new_timeseries = original_timeseries + noise_weight * Guassian_random(mean(original_timeseries), sd(original_timeseries))\n",
    "\n",
    "- noise_weight = 0 means no additional noise at all,\n",
    "- noise_weight = 1 means an equal amount of original signal and additional noise"
   ]
  },
  {
   "cell_type": "code",
   "execution_count": 141,
   "metadata": {
    "ExecuteTime": {
     "end_time": "2019-10-08T07:48:40.268304Z",
     "start_time": "2019-10-08T09:48:40.259810+02:00"
    },
    "collapsed": false,
    "deletable": true,
    "editable": true
   },
   "outputs": [],
   "source": [
    "def mix_region(mixing_weight=0):\n",
    "    X_noisy=X.copy()\n",
    "    scaler = StandardScaler()\n",
    "    scaler.fit(X_noisy)\n",
    "    X_noisy = X_noisy + mixing_weight * np.random.normal(scaler.mean_, scaler.scale_, X_noisy.shape)\n",
    "    predicted = rpn.predict(X_noisy)\n",
    "    return(predicted)"
   ]
  },
  {
   "cell_type": "markdown",
   "metadata": {
    "deletable": true,
    "editable": true
   },
   "source": [
    "Next, we investigate how prediction accuracy changes as a function of the amount of noise."
   ]
  },
  {
   "cell_type": "code",
   "execution_count": 142,
   "metadata": {
    "ExecuteTime": {
     "end_time": "2019-10-08T07:49:05.384776Z",
     "start_time": "2019-10-08T09:48:42.931686+02:00"
    },
    "collapsed": false,
    "deletable": true,
    "editable": true
   },
   "outputs": [
    {
     "name": "stderr",
     "output_type": "stream",
     "text": [
      "100%|██████████| 10/10 [00:22<00:00,  2.24s/it]\n"
     ]
    }
   ],
   "source": [
    "numiter=50\n",
    "weights=np.linspace(start=0, stop=5, num=10)\n",
    "noise_weight=np.zeros(len(weights)*numiter)\n",
    "correlation=np.zeros(len(weights)*numiter)\n",
    "\n",
    "np.random.seed(0)\n",
    "idx=0\n",
    "for w in tqdm(weights):\n",
    "    for iter in range(numiter):  \n",
    "        correlation[idx] = np.corrcoef(df['mean_QST_pain_sensitivity'], mix_region(w))[0,1]\n",
    "        noise_weight[idx] = w\n",
    "        idx=idx+1\n",
    "\n",
    "data=pd.DataFrame({\n",
    "    'noise_weight' : noise_weight,\n",
    "    'correlation' : correlation\n",
    "})"
   ]
  },
  {
   "cell_type": "code",
   "execution_count": 118,
   "metadata": {
    "ExecuteTime": {
     "end_time": "2019-10-07T10:35:03.558780Z",
     "start_time": "2019-10-07T12:35:03.228438+02:00"
    },
    "collapsed": false,
    "deletable": true,
    "editable": true
   },
   "outputs": [
    {
     "data": {
      "image/png": "[encoded data removed]",
      "text/plain": [
       "<Figure size 432x288 with 1 Axes>"
      ]
     },
     "metadata": {},
     "output_type": "display_data"
    }
   ],
   "source": [
    "# plot drop-out effect\n",
    "ax=sns.lineplot(x=\"noise_weight\", y=\"correlation\", ci=95, data=data)\n",
    "ax.axhline(0.2061, ls='--')\n",
    "\n",
    "plt.show()"
   ]
  },
  {
   "cell_type": "markdown",
   "metadata": {
    "deletable": true,
    "editable": true
   },
   "source": [
    "### *Figure SE2.2. The tolerance of the RPN-signature to noise added to the regional timecourses.*\n",
    "*The mean correlation (and 95% confidence intervals) between predicted and observed pain sensitivity is plotted as a function of the amount of noise added to all timecourses, simultaneously. Dashed line denotes R=0.206, i.e. the correlation value belonging to the p=0.05 significance threshold.*"
   ]
  }
 ],
 "metadata": {
  "hide_input": false,
  "kernelspec": {
   "display_name": "Python 2",
   "language": "python",
   "name": "python2"
  },
  "language_info": {
   "codemirror_mode": {
    "name": "ipython",
    "version": 2
   },
   "file_extension": ".py",
   "mimetype": "text/x-python",
   "name": "python",
   "nbconvert_exporter": "python",
   "pygments_lexer": "ipython2",
   "version": "2.7.13"
  },
  "toc": {
   "base_numbering": 1,
   "nav_menu": {},
   "number_sections": false,
   "sideBar": true,
   "skip_h1_title": false,
   "title_cell": "Table of Contents",
   "title_sidebar": "Contents",
   "toc_cell": false,
   "toc_position": {},
   "toc_section_display": true,
   "toc_window_display": true
  },
  "varInspector": {
   "cols": {
    "lenName": 16,
    "lenType": 16,
    "lenVar": 40
   },
   "kernels_config": {
    "python": {
     "delete_cmd_postfix": "",
     "delete_cmd_prefix": "del ",
     "library": "var_list.py",
     "varRefreshCmd": "print(var_dic_list())"
    },
    "r": {
     "delete_cmd_postfix": ") ",
     "delete_cmd_prefix": "rm(",
     "library": "var_list.r",
     "varRefreshCmd": "cat(var_dic_list()) "
    }
   },
   "position": {
    "height": "311px",
    "left": "1508px",
    "right": "20px",
    "top": "120px",
    "width": "342px"
   },
   "types_to_exclude": [
    "module",
    "function",
    "builtin_function_or_method",
    "instance",
    "_Feature"
   ],
   "window_display": false
  }
 },
 "nbformat": 4,
 "nbformat_minor": 2
}
